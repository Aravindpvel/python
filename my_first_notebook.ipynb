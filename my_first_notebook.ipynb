{
  "nbformat": 4,
  "nbformat_minor": 0,
  "metadata": {
    "colab": {
      "name": "my_first_notebook",
      "provenance": [],
      "authorship_tag": "ABX9TyM+6icRNzX3s8ZByY7zisHo",
      "include_colab_link": true
    },
    "kernelspec": {
      "name": "python3",
      "display_name": "Python 3"
    },
    "language_info": {
      "name": "python"
    }
  },
  "cells": [
    {
      "cell_type": "markdown",
      "metadata": {
        "id": "view-in-github",
        "colab_type": "text"
      },
      "source": [
        "<a href=\"https://colab.research.google.com/github/Aravindpvel/python/blob/main/my_first_notebook.ipynb\" target=\"_parent\"><img src=\"https://colab.research.google.com/assets/colab-badge.svg\" alt=\"Open In Colab\"/></a>"
      ]
    },
    {
      "cell_type": "markdown",
      "source": [
        "**First Program Python**"
      ],
      "metadata": {
        "id": "PZ27w6xYfB01"
      }
    },
    {
      "cell_type": "code",
      "source": [
        "print(\"Hello World\")"
      ],
      "metadata": {
        "colab": {
          "base_uri": "https://localhost:8080/"
        },
        "id": "Nj05uA_nNgcR",
        "outputId": "646f74a1-c286-4721-9a8c-851279784ccb"
      },
      "execution_count": null,
      "outputs": [
        {
          "output_type": "stream",
          "name": "stdout",
          "text": [
            "Hello World\n"
          ]
        }
      ]
    },
    {
      "cell_type": "markdown",
      "source": [
        "**Keywords in python**"
      ],
      "metadata": {
        "id": "v3Tm391sfLkQ"
      }
    },
    {
      "cell_type": "code",
      "source": [
        "import keyword\n",
        "\n",
        "print(len(keyword.kwlist))\n",
        "print(keyword.kwlist)"
      ],
      "metadata": {
        "colab": {
          "base_uri": "https://localhost:8080/"
        },
        "id": "Zf4iO4WeSIrp",
        "outputId": "b6cc9cf7-b233-45d6-ef3d-38d093bdc4bc"
      },
      "execution_count": null,
      "outputs": [
        {
          "output_type": "stream",
          "name": "stdout",
          "text": [
            "35\n",
            "['False', 'None', 'True', 'and', 'as', 'assert', 'async', 'await', 'break', 'class', 'continue', 'def', 'del', 'elif', 'else', 'except', 'finally', 'for', 'from', 'global', 'if', 'import', 'in', 'is', 'lambda', 'nonlocal', 'not', 'or', 'pass', 'raise', 'return', 'try', 'while', 'with', 'yield']\n"
          ]
        }
      ]
    },
    {
      "cell_type": "markdown",
      "source": [
        "**Identifiers in Python**"
      ],
      "metadata": {
        "id": "DrR2UBuPgfHV"
      }
    },
    {
      "cell_type": "code",
      "source": [
        "@num = 10\n",
        "print(@num)"
      ],
      "metadata": {
        "colab": {
          "base_uri": "https://localhost:8080/",
          "height": 130
        },
        "id": "Uyh2oFxKgu3m",
        "outputId": "687aeac2-c406-4d81-cbe4-185b2f15f67e"
      },
      "execution_count": null,
      "outputs": [
        {
          "output_type": "error",
          "ename": "SyntaxError",
          "evalue": "ignored",
          "traceback": [
            "\u001b[0;36m  File \u001b[0;32m\"<ipython-input-1-300e49821b63>\"\u001b[0;36m, line \u001b[0;32m1\u001b[0m\n\u001b[0;31m    @num = 10\u001b[0m\n\u001b[0m         ^\u001b[0m\n\u001b[0;31mSyntaxError\u001b[0m\u001b[0;31m:\u001b[0m invalid syntax\n"
          ]
        }
      ]
    },
    {
      "cell_type": "code",
      "source": [
        "num@ =10\n",
        "print(num@)"
      ],
      "metadata": {
        "colab": {
          "base_uri": "https://localhost:8080/",
          "height": 130
        },
        "id": "pPXLU9HUhOwg",
        "outputId": "14e980fa-ac16-4d9e-ccd6-9c36c11698ea"
      },
      "execution_count": null,
      "outputs": [
        {
          "output_type": "error",
          "ename": "SyntaxError",
          "evalue": "ignored",
          "traceback": [
            "\u001b[0;36m  File \u001b[0;32m\"<ipython-input-2-721a568bb973>\"\u001b[0;36m, line \u001b[0;32m1\u001b[0m\n\u001b[0;31m    num@ =10\u001b[0m\n\u001b[0m         ^\u001b[0m\n\u001b[0;31mSyntaxError\u001b[0m\u001b[0;31m:\u001b[0m invalid syntax\n"
          ]
        }
      ]
    },
    {
      "cell_type": "code",
      "source": [
        "1num =10\n",
        "print(1num)"
      ],
      "metadata": {
        "colab": {
          "base_uri": "https://localhost:8080/",
          "height": 130
        },
        "id": "CYx2HaeahVl9",
        "outputId": "6ea87eab-f643-4c58-987d-d943c6bffc54"
      },
      "execution_count": null,
      "outputs": [
        {
          "output_type": "error",
          "ename": "SyntaxError",
          "evalue": "ignored",
          "traceback": [
            "\u001b[0;36m  File \u001b[0;32m\"<ipython-input-1-8c41c44a709d>\"\u001b[0;36m, line \u001b[0;32m1\u001b[0m\n\u001b[0;31m    1num =10\u001b[0m\n\u001b[0m       ^\u001b[0m\n\u001b[0;31mSyntaxError\u001b[0m\u001b[0;31m:\u001b[0m invalid syntax\n"
          ]
        }
      ]
    },
    {
      "cell_type": "code",
      "source": [
        "num = 10\n",
        "print(num)"
      ],
      "metadata": {
        "colab": {
          "base_uri": "https://localhost:8080/"
        },
        "id": "0j8AxCF0kR2Y",
        "outputId": "36eed5f0-31d5-4a7f-ab57-a9aeb10689a2"
      },
      "execution_count": null,
      "outputs": [
        {
          "output_type": "stream",
          "name": "stdout",
          "text": [
            "10\n"
          ]
        }
      ]
    },
    {
      "cell_type": "markdown",
      "source": [
        "**Addition of two numbers(Example for comments and DocString** "
      ],
      "metadata": {
        "id": "kv49QV_BmhcS"
      }
    },
    {
      "cell_type": "code",
      "source": [
        "#Addition of two numbers\n",
        "\n",
        "def add():\n",
        "    \"\"\"Function to add two numbers\n",
        "       print this docstring using __doc__ attribute of the funtion funtion\n",
        "    \"\"\"\n",
        "    #get the first number from user\n",
        "    num1 = input(\"Enter first number\")\n",
        "\n",
        "    #get the first number from user\n",
        "    num2 = input(\"Enter Second number\")\n",
        "\n",
        "    #Sum of two numbers \n",
        "    sum = int(num1) + int(num2)\n",
        "    return(sum)\n",
        "  \n",
        "print(add())\n",
        "print(add.__doc__)\n",
        "\n"
      ],
      "metadata": {
        "colab": {
          "base_uri": "https://localhost:8080/"
        },
        "id": "l7PyGRtTnQVU",
        "outputId": "fa86dc78-f38d-4832-abbf-04e262f8296b"
      },
      "execution_count": null,
      "outputs": [
        {
          "output_type": "stream",
          "name": "stdout",
          "text": [
            "Enter first number500\n",
            "Enter Second number3000\n",
            "3500\n",
            "Function to add two numbers\n",
            "       print this docstring using __doc__ attribute of the funtion funtion\n",
            "    \n"
          ]
        }
      ]
    },
    {
      "cell_type": "code",
      "source": [
        "add     #Press Shift + Tab to view DocString"
      ],
      "metadata": {
        "id": "BQJTWL07_FMU"
      },
      "execution_count": null,
      "outputs": []
    },
    {
      "cell_type": "markdown",
      "source": [
        "**LIST Data Type** **[ ]**"
      ],
      "metadata": {
        "id": "uIib5FoGRh_b"
      }
    },
    {
      "cell_type": "code",
      "source": [
        "blanklist = []\n",
        "\n",
        "ListofString = ['Apple','ball']\n",
        "\n",
        "listofNumbers = [11,12,13,14,15]\n",
        "\n",
        "listoflist = [[1,2,3],[1.1,2.2,3.3]]\n",
        "\n",
        "listofmixeddatatypes = [55.4,'bill',232,14.3]\n",
        "\n",
        "print(blanklist)\n",
        "print(ListofString)\n",
        "print(listofNumbers)\n",
        "print(listoflist)\n",
        "print(listofmixeddatatypes)\n"
      ],
      "metadata": {
        "colab": {
          "base_uri": "https://localhost:8080/"
        },
        "id": "XLa43DOBRhrh",
        "outputId": "8d4e49dc-7a82-4c82-fe9e-64d23a66831f"
      },
      "execution_count": null,
      "outputs": [
        {
          "output_type": "stream",
          "name": "stdout",
          "text": [
            "[]\n",
            "['Apple', 'ball']\n",
            "[11, 12, 13, 14, 15]\n",
            "[[1, 2, 3], [1.1, 2.2, 3.3]]\n",
            "[55.4, 'bill', 232, 14.3]\n"
          ]
        }
      ]
    },
    {
      "cell_type": "markdown",
      "source": [
        "**Append to list**"
      ],
      "metadata": {
        "id": "ExX-cU-KS-DA"
      }
    },
    {
      "cell_type": "code",
      "source": [
        "print(listofNumbers)\n",
        "listofNumbers.append('Appended Element')\n",
        "print(listofNumbers)"
      ],
      "metadata": {
        "colab": {
          "base_uri": "https://localhost:8080/"
        },
        "id": "w2pmzmaTS9ro",
        "outputId": "38c3ad76-378b-4038-fe39-d5abd09a2a1d"
      },
      "execution_count": null,
      "outputs": [
        {
          "output_type": "stream",
          "name": "stdout",
          "text": [
            "[11, 12, 13, 14, 15]\n",
            "[11, 12, 13, 14, 15, 'Appended Element']\n"
          ]
        }
      ]
    },
    {
      "cell_type": "markdown",
      "source": [
        "**Insert an element at the particular position of list**"
      ],
      "metadata": {
        "id": "30KqeYzfT3yC"
      }
    },
    {
      "cell_type": "code",
      "source": [
        "print(listofmixeddatatypes)\n",
        "listofmixeddatatypes.insert(2,'Gates')\n",
        "print(listofmixeddatatypes)"
      ],
      "metadata": {
        "colab": {
          "base_uri": "https://localhost:8080/"
        },
        "id": "o4FL0lG1T3gw",
        "outputId": "2178e7d4-2d3c-41b5-95be-f6ee65a7a344"
      },
      "execution_count": null,
      "outputs": [
        {
          "output_type": "stream",
          "name": "stdout",
          "text": [
            "[55.4, 'bill', 232, 14.3]\n",
            "[55.4, 'bill', 'Gates', 232, 14.3]\n"
          ]
        }
      ]
    },
    {
      "cell_type": "markdown",
      "source": [
        "**Remove a element from the list**"
      ],
      "metadata": {
        "id": "XPIgOsMiVjyD"
      }
    },
    {
      "cell_type": "code",
      "source": [
        "print(listofNumbers)\n",
        "listofNumbers.remove('Appended Element')\n",
        "print(listofNumbers)"
      ],
      "metadata": {
        "colab": {
          "base_uri": "https://localhost:8080/"
        },
        "outputId": "38c3ad76-378b-4038-fe39-d5abd09a2a1d",
        "id": "MTJqDq3UVdor"
      },
      "execution_count": null,
      "outputs": [
        {
          "output_type": "stream",
          "name": "stdout",
          "text": [
            "[11, 12, 13, 14, 15]\n",
            "[11, 12, 13, 14, 15, 'Appended Element']\n"
          ]
        }
      ]
    },
    {
      "cell_type": "markdown",
      "source": [
        "**Extend a list**"
      ],
      "metadata": {
        "id": "HF3YSFBCVqNI"
      }
    },
    {
      "cell_type": "code",
      "source": [
        "print(listofmixeddatatypes)\n",
        "print(listofNumbers)\n",
        "\n",
        "listofmixeddatatypes.extend(listofNumbers)\n",
        "\n",
        "print(listofmixeddatatypes)"
      ],
      "metadata": {
        "colab": {
          "base_uri": "https://localhost:8080/"
        },
        "id": "hXXu7TqUVt4V",
        "outputId": "7c42f2e7-77a6-46ce-82e6-1a4a584cf412"
      },
      "execution_count": null,
      "outputs": [
        {
          "output_type": "stream",
          "name": "stdout",
          "text": [
            "[55.4, 'bill', 'Gates', 232, 14.3]\n",
            "[11, 12, 13, 14, 15, 'Appended Element']\n",
            "[55.4, 'bill', 'Gates', 232, 14.3, 11, 12, 13, 14, 15, 'Appended Element']\n"
          ]
        }
      ]
    }
  ]
}